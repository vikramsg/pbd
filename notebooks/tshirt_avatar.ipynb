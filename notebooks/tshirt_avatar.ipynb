{
 "cells": [
  {
   "cell_type": "code",
   "execution_count": 2,
   "metadata": {},
   "outputs": [],
   "source": [
    "import pyvista as pv\n",
    "import numpy as np\n",
    "from pathlib import Path\n",
    "import pygmsh\n",
    "import meshio"
   ]
  },
  {
   "cell_type": "code",
   "execution_count": 3,
   "metadata": {},
   "outputs": [
    {
     "name": "stderr",
     "output_type": "stream",
     "text": [
      "/Users/vikramsingh/Library/Caches/pypoetry/virtualenvs/pbd-GYzgUBp8-py3.8/lib/python3.8/site-packages/pyvista/core/pointset.py:262: PyVistaDeprecationWarning: You did not specify a value for `inplace` and the default value will be changing to `False` in future versions for point-based meshes (e.g., `PolyData`). Please make sure you are not assuming this to be an inplace operation.\n",
      "  warnings.warn(DEFAULT_INPLACE_WARNING, PyVistaDeprecationWarning)\n"
     ]
    }
   ],
   "source": [
    "avatar_path = Path(\"../\").resolve() / \"data\" / \"avatar\" / \"spread_arms.obj\"\n",
    "avatar_mesh = pv.read(avatar_path)\n",
    "\n",
    "avatar_mesh = avatar_mesh.scale([0.01, 0.01, 0.01])"
   ]
  },
  {
   "cell_type": "code",
   "execution_count": 4,
   "metadata": {},
   "outputs": [],
   "source": [
    "lower_right_points = [[0, 0.95, 0.25], [0.25, 0.95, 0.25], [0.25, 1.25, 0.25]]\n",
    "right_sleeve_points = [[0.35, 1.20, 0.25], [0.35, 1.39,0.25] ]\n",
    "center_points = [[0.15, 1.55,0.25], [-0.15, 1.55,0.25],]\n",
    "left_sleeve_points = [[-0.35, 1.39,0.25], [-0.35, 1.20, 0.25]]\n",
    "# lower_left_points = [[-0.25, 1.25, 0.25], [-0.25, 0.95, 0.25], [0., 0.95, 0.25]]\n",
    "lower_left_points = [[-0.25, 1.25, 0.25], [-0.25, 0.95, 0.25]]\n",
    "\n",
    "tshirt_points = lower_right_points + right_sleeve_points + center_points + left_sleeve_points + lower_left_points\n",
    "tshirt_lines = pv.lines_from_points(tshirt_points)"
   ]
  },
  {
   "cell_type": "code",
   "execution_count": 10,
   "metadata": {},
   "outputs": [
    {
     "name": "stdout",
     "output_type": "stream",
     "text": [
      "Info    : Meshing 1D...\n",
      "Info    : [  0%] Meshing curve 1 (Line)\n",
      "Info    : [ 10%] Meshing curve 2 (Line)\n",
      "Info    : [ 20%] Meshing curve 3 (Line)\n",
      "Info    : [ 30%] Meshing curve 4 (Line)\n",
      "Info    : [ 40%] Meshing curve 5 (Line)\n",
      "Info    : [ 50%] Meshing curve 6 (Line)\n",
      "Info    : [ 60%] Meshing curve 7 (Line)\n",
      "Info    : [ 70%] Meshing curve 8 (Line)\n",
      "Info    : [ 80%] Meshing curve 9 (Line)\n",
      "Info    : [ 90%] Meshing curve 10 (Line)\n",
      "Info    : [100%] Meshing curve 11 (Line)\n",
      "Info    : Done meshing 1D (Wall 0.000660862s, CPU 0.001051s)\n",
      "Info    : Meshing 2D...\n",
      "Info    : Meshing surface 1 (Plane, Delaunay)\n",
      "Info    : Done meshing 2D (Wall 0.00258022s, CPU 0.002561s)\n",
      "Info    : 99 nodes 207 elements\n"
     ]
    },
    {
     "data": {
      "text/html": [
       "\n",
       "<table>\n",
       "<tr><th>UnstructuredGrid</th><th>Information</th></tr>\n",
       "<tr><td>N Cells</td><td>167</td></tr>\n",
       "<tr><td>N Points</td><td>99</td></tr>\n",
       "<tr><td>X Bounds</td><td>-3.500e-01, 3.500e-01</td></tr>\n",
       "<tr><td>Y Bounds</td><td>9.500e-01, 1.550e+00</td></tr>\n",
       "<tr><td>Z Bounds</td><td>-2.500e-01, -2.500e-01</td></tr>\n",
       "<tr><td>N Arrays</td><td>0</td></tr>\n",
       "</table>\n",
       "\n"
      ],
      "text/plain": [
       "UnstructuredGrid (0x1417806a0)\n",
       "  N Cells:\t167\n",
       "  N Points:\t99\n",
       "  X Bounds:\t-3.500e-01, 3.500e-01\n",
       "  Y Bounds:\t9.500e-01, 1.550e+00\n",
       "  Z Bounds:\t-2.500e-01, -2.500e-01\n",
       "  N Arrays:\t0"
      ]
     },
     "execution_count": 10,
     "metadata": {},
     "output_type": "execute_result"
    }
   ],
   "source": [
    "def create_mesh(closed_lines: np.ndarray) -> pv.PolyData:\n",
    "    with pygmsh.geo.Geometry() as geom:\n",
    "        geom.add_polygon(\n",
    "            closed_lines,\n",
    "            mesh_size=0.1,\n",
    "        )\n",
    "\n",
    "        mesh: meshio.Mesh = geom.generate_mesh(\n",
    "            dim=2, algorithm=5, verbose=True\n",
    "        )  # 5: Delaunay\n",
    "\n",
    "    # HardCoding alert! We observe that [1] has triangle elements so we use that\n",
    "    # https://github.com/meshpro/pygmsh/discussions/524\n",
    "    elems = mesh.cells[1].data\n",
    "    coords = mesh.points\n",
    "\n",
    "    cells = [(\"triangle\", elems)]\n",
    "    meshio.write_points_cells(\"/tmp/out.vtk\", coords, cells)\n",
    "\n",
    "    mesh_pv = pv.read(\"/tmp/out.vtk\")\n",
    "\n",
    "    return mesh_pv\n",
    "\n",
    "triangle_mesh_front = create_mesh(tshirt_lines.points)\n",
    "triangle_mesh_back = triangle_mesh_front.copy(deep=True)\n",
    "triangle_mesh_back.translate((0, 0, -0.5), inplace=True)"
   ]
  },
  {
   "cell_type": "code",
   "execution_count": 16,
   "metadata": {},
   "outputs": [
    {
     "data": {
      "application/vnd.jupyter.widget-view+json": {
       "model_id": "0b15e5525a444d73aa73608cd7da3dc9",
       "version_major": 2,
       "version_minor": 0
      },
      "text/plain": [
       "ViewInteractiveWidget(height=768, layout=Layout(height='auto', width='100%'), width=1024)"
      ]
     },
     "metadata": {},
     "output_type": "display_data"
    }
   ],
   "source": [
    "center = (0, 1.1, 0.25)\n",
    "\n",
    "plane = pv.Plane(center=center, direction=(0, 0, 1), i_size=0.5, j_size=0.3)\n",
    "\n",
    "plotter = pv.Plotter()\n",
    "plotter.add_mesh(avatar_mesh, color=\"yellow\")\n",
    "# plotter.add_mesh(plane, color=\"blue\")\n",
    "plotter.add_mesh(triangle_mesh_back, color = \"blue\", show_edges=True)\n",
    "plotter.add_mesh(triangle_mesh_front, color = \"blue\", show_edges=True)\n",
    "\n",
    "edge_points = triangle_mesh_front.extract_feature_edges(boundary_edges=True, \n",
    "                                      non_manifold_edges=False, \n",
    "                                      manifold_edges=False)\n",
    "\n",
    "plotter.add_point_labels(edge_points.points, labels = [str(point) for point in edge_points.points])\n",
    "\n",
    "plotter.add_axes()\n",
    "plotter.show(cpos = 'xy')"
   ]
  },
  {
   "cell_type": "code",
   "execution_count": 28,
   "metadata": {},
   "outputs": [
    {
     "name": "stdout",
     "output_type": "stream",
     "text": [
      "[14, 2, 9, 25, 6, 21, 5, 19, 0, 11, 12, 16, 4, 7, 23, 17, 18, 20, 28, 22, 26, 10, 1, 13, 27, 24, 15, 3, 8]\n",
      "21 [-0.21666667  1.49666667  0.25      ]\n",
      "5 [0.15 1.55 0.25]\n",
      "19 [0.05 1.55 0.25]\n",
      "0 [0.   0.95 0.25]\n",
      "11 [0.08333333 0.95       0.25      ]\n",
      "12 [0.16666667 0.95       0.25      ]\n",
      "16 [0.35  1.295 0.25 ]\n",
      "4 [0.35 1.39 0.25]\n",
      "7 [-0.35  1.39  0.25]\n",
      "23 [-0.35   1.295  0.25 ]\n",
      "17 [0.28333333 1.44333333 0.25      ]\n",
      "18 [0.21666667 1.49666667 0.25      ]\n",
      "20 [-0.05  1.55  0.25]\n",
      "28 [-0.08333333  0.95        0.25      ]\n",
      "22 [-0.28333333  1.44333333  0.25      ]\n",
      "26 [-0.25  1.05  0.25]\n",
      "10 [-0.25  0.95  0.25]\n",
      "1 [0.25 0.95 0.25]\n",
      "13 [0.25 1.05 0.25]\n",
      "27 [-0.16666667  0.95        0.25      ]\n",
      "24 [-0.3    1.225  0.25 ]\n",
      "15 [0.3   1.225 0.25 ]\n",
      "3 [0.35 1.2  0.25]\n",
      "8 [-0.35  1.2   0.25]\n"
     ]
    }
   ],
   "source": [
    "edge_point_indexes = [triangle_mesh_front.find_closest_point(point) for point in edge_points.points] \n",
    "\n",
    "print(edge_point_indexes)\n",
    "for index in edge_point_indexes[5:]:\n",
    "    print(index, triangle_mesh_front.points[index])"
   ]
  },
  {
   "cell_type": "code",
   "execution_count": 23,
   "metadata": {},
   "outputs": [],
   "source": [
    "triangle_mesh_front_file = Path(\"../\").resolve() / \"data\" / \"avatar\" / \"tshirt_front.obj\"\n",
    "triangle_mesh_back_file = Path(\"../\").resolve() / \"data\" / \"avatar\" / \"tshirt_back.obj\"\n",
    "pv.save_meshio(filename=triangle_mesh_front_file, mesh=triangle_mesh_front)\n",
    "pv.save_meshio(filename=triangle_mesh_back_file, mesh=triangle_mesh_back)"
   ]
  },
  {
   "cell_type": "code",
   "execution_count": null,
   "metadata": {},
   "outputs": [],
   "source": []
  }
 ],
 "metadata": {
  "kernelspec": {
   "display_name": "Python 3.8.10 ('pbd-GYzgUBp8-py3.8')",
   "language": "python",
   "name": "python3"
  },
  "language_info": {
   "codemirror_mode": {
    "name": "ipython",
    "version": 3
   },
   "file_extension": ".py",
   "mimetype": "text/x-python",
   "name": "python",
   "nbconvert_exporter": "python",
   "pygments_lexer": "ipython3",
   "version": "3.8.10"
  },
  "orig_nbformat": 4,
  "vscode": {
   "interpreter": {
    "hash": "56a7305e33ec82d73ff697ea181806548f63669c9bde66f41b7c8880b1356fa1"
   }
  }
 },
 "nbformat": 4,
 "nbformat_minor": 2
}
