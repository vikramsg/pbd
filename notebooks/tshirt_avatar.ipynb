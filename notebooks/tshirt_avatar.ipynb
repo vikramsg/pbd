{
 "cells": [
  {
   "cell_type": "code",
   "execution_count": 3,
   "metadata": {},
   "outputs": [],
   "source": [
    "import pyvista as pv\n",
    "import numpy as np\n",
    "from pathlib import Path"
   ]
  },
  {
   "cell_type": "code",
   "execution_count": 4,
   "metadata": {},
   "outputs": [
    {
     "name": "stderr",
     "output_type": "stream",
     "text": [
      "/Users/vikramsingh/Library/Caches/pypoetry/virtualenvs/pbd-GYzgUBp8-py3.8/lib/python3.8/site-packages/pyvista/core/pointset.py:262: PyVistaDeprecationWarning: You did not specify a value for `inplace` and the default value will be changing to `False` in future versions for point-based meshes (e.g., `PolyData`). Please make sure you are not assuming this to be an inplace operation.\n",
      "  warnings.warn(DEFAULT_INPLACE_WARNING, PyVistaDeprecationWarning)\n"
     ]
    }
   ],
   "source": [
    "avatar_path = Path(\"../\").resolve() / \"data\" / \"spread_arms.obj\"\n",
    "avatar_mesh = pv.read(avatar_path)\n",
    "\n",
    "avatar_mesh = avatar_mesh.scale([0.01, 0.01, 0.01])"
   ]
  },
  {
   "cell_type": "code",
   "execution_count": 5,
   "metadata": {},
   "outputs": [],
   "source": [
    "lower_right_points = [[0, 0.95, 0.25], [0.25, 0.95, 0.25], [0.25, 1.25, 0.25]]\n",
    "right_sleeve_points = [[0.35, 1.20, 0.25], [0.35, 1.39,0.25] ]\n",
    "center_points = [[0.15, 1.55,0.25], [-0.15, 1.55,0.25],]\n",
    "left_sleeve_points = [[-0.35, 1.39,0.25], [-0.35, 1.20, 0.25]]\n",
    "lower_left_points = [[-0.25, 1.25, 0.25], [-0.25, 0.95, 0.25], [0., 0.95, 0.25]]\n",
    "\n",
    "tshirt_points = lower_right_points + right_sleeve_points + center_points + left_sleeve_points + lower_left_points\n",
    "tshirt_lines = pv.lines_from_points(tshirt_points)"
   ]
  },
  {
   "cell_type": "code",
   "execution_count": 9,
   "metadata": {},
   "outputs": [
    {
     "ename": "NameError",
     "evalue": "name 'pygmsh' is not defined",
     "output_type": "error",
     "traceback": [
      "\u001b[0;31m---------------------------------------------------------------------------\u001b[0m",
      "\u001b[0;31mNameError\u001b[0m                                 Traceback (most recent call last)",
      "Cell \u001b[0;32mIn [9], line 24\u001b[0m\n\u001b[1;32m     20\u001b[0m     mesh_pv \u001b[38;5;241m=\u001b[39m pv\u001b[38;5;241m.\u001b[39mread(\u001b[38;5;124m\"\u001b[39m\u001b[38;5;124m/tmp/out.vtk\u001b[39m\u001b[38;5;124m\"\u001b[39m)\n\u001b[1;32m     22\u001b[0m     \u001b[38;5;28;01mreturn\u001b[39;00m mesh_pv\n\u001b[0;32m---> 24\u001b[0m triangle_mesh \u001b[38;5;241m=\u001b[39m \u001b[43mcreate_mesh\u001b[49m\u001b[43m(\u001b[49m\u001b[43mtshirt_lines\u001b[49m\u001b[43m)\u001b[49m\n",
      "Cell \u001b[0;32mIn [9], line 2\u001b[0m, in \u001b[0;36mcreate_mesh\u001b[0;34m(closed_lines)\u001b[0m\n\u001b[1;32m      1\u001b[0m \u001b[38;5;28;01mdef\u001b[39;00m \u001b[38;5;21mcreate_mesh\u001b[39m(closed_lines: pv\u001b[38;5;241m.\u001b[39mPolyData) \u001b[38;5;241m-\u001b[39m\u001b[38;5;241m>\u001b[39m pv\u001b[38;5;241m.\u001b[39mPolyData:\n\u001b[0;32m----> 2\u001b[0m     \u001b[38;5;28;01mwith\u001b[39;00m \u001b[43mpygmsh\u001b[49m\u001b[38;5;241m.\u001b[39mgeo\u001b[38;5;241m.\u001b[39mGeometry() \u001b[38;5;28;01mas\u001b[39;00m geom:\n\u001b[1;32m      3\u001b[0m         geom\u001b[38;5;241m.\u001b[39madd_polygon(\n\u001b[1;32m      4\u001b[0m             closed_lines,\n\u001b[1;32m      5\u001b[0m             mesh_size\u001b[38;5;241m=\u001b[39m\u001b[38;5;241m1.0\u001b[39m,\n\u001b[1;32m      6\u001b[0m         )\n\u001b[1;32m      8\u001b[0m         mesh: meshio\u001b[38;5;241m.\u001b[39mMesh \u001b[38;5;241m=\u001b[39m geom\u001b[38;5;241m.\u001b[39mgenerate_mesh(\n\u001b[1;32m      9\u001b[0m             dim\u001b[38;5;241m=\u001b[39m\u001b[38;5;241m2\u001b[39m, algorithm\u001b[38;5;241m=\u001b[39m\u001b[38;5;241m5\u001b[39m, verbose\u001b[38;5;241m=\u001b[39m\u001b[38;5;28;01mTrue\u001b[39;00m\n\u001b[1;32m     10\u001b[0m         )  \u001b[38;5;66;03m# 5: Delaunay\u001b[39;00m\n",
      "\u001b[0;31mNameError\u001b[0m: name 'pygmsh' is not defined"
     ]
    }
   ],
   "source": [
    "def create_mesh(closed_lines: pv.PolyData) -> pv.PolyData:\n",
    "    with pygmsh.geo.Geometry() as geom:\n",
    "        geom.add_polygon(\n",
    "            closed_lines,\n",
    "            mesh_size=1.0,\n",
    "        )\n",
    "\n",
    "        mesh: meshio.Mesh = geom.generate_mesh(\n",
    "            dim=2, algorithm=5, verbose=True\n",
    "        )  # 5: Delaunay\n",
    "\n",
    "    # HardCoding alert! We observe that [1] has triangle elements so we use that\n",
    "    # https://github.com/meshpro/pygmsh/discussions/524\n",
    "    elems = mesh.cells[1].data\n",
    "    coords = mesh.points\n",
    "\n",
    "    cells = [(\"triangle\", elems)]\n",
    "    meshio.write_points_cells(\"/tmp/out.vtk\", coords, cells)\n",
    "\n",
    "    mesh_pv = pv.read(\"/tmp/out.vtk\")\n",
    "\n",
    "    return mesh_pv\n",
    "\n",
    "triangle_mesh = create_mesh(tshirt_lines)"
   ]
  },
  {
   "cell_type": "code",
   "execution_count": 49,
   "metadata": {},
   "outputs": [
    {
     "data": {
      "application/vnd.jupyter.widget-view+json": {
       "model_id": "9e12d2316dda47d197ff30535a05d76f",
       "version_major": 2,
       "version_minor": 0
      },
      "text/plain": [
       "ViewInteractiveWidget(height=768, layout=Layout(height='auto', width='100%'), width=1024)"
      ]
     },
     "metadata": {},
     "output_type": "display_data"
    }
   ],
   "source": [
    "center = (0, 1.1, 0.25)\n",
    "\n",
    "plane = pv.Plane(center=center, direction=(0, 0, 1), i_size=0.5, j_size=0.3)\n",
    "\n",
    "plotter = pv.Plotter()\n",
    "plotter.add_mesh(avatar_mesh, color=\"yellow\")\n",
    "# plotter.add_mesh(plane, color=\"blue\")\n",
    "plotter.add_mesh(tshirt_triangles, color = \"blue\", show_edges=True)\n",
    "\n",
    "# plotter.add_point_labels(plane.points[100], labels = [f\"{str(plane.points[100])}\"])\n",
    "\n",
    "plotter.add_axes()\n",
    "plotter.show(cpos = 'xy')"
   ]
  },
  {
   "cell_type": "code",
   "execution_count": null,
   "metadata": {},
   "outputs": [],
   "source": []
  }
 ],
 "metadata": {
  "kernelspec": {
   "display_name": "Python 3.8.10 ('pbd-GYzgUBp8-py3.8')",
   "language": "python",
   "name": "python3"
  },
  "language_info": {
   "codemirror_mode": {
    "name": "ipython",
    "version": 3
   },
   "file_extension": ".py",
   "mimetype": "text/x-python",
   "name": "python",
   "nbconvert_exporter": "python",
   "pygments_lexer": "ipython3",
   "version": "3.8.10"
  },
  "orig_nbformat": 4,
  "vscode": {
   "interpreter": {
    "hash": "56a7305e33ec82d73ff697ea181806548f63669c9bde66f41b7c8880b1356fa1"
   }
  }
 },
 "nbformat": 4,
 "nbformat_minor": 2
}
