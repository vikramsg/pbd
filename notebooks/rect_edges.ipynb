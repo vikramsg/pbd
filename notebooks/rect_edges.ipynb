{
 "cells": [
  {
   "cell_type": "code",
   "execution_count": 12,
   "metadata": {},
   "outputs": [],
   "source": [
    "import pyvista as pv\n",
    "import numpy as np\n",
    "from scipy.spatial.distance import cdist\n"
   ]
  },
  {
   "cell_type": "code",
   "execution_count": 8,
   "metadata": {},
   "outputs": [],
   "source": [
    "center = [0, 0, 0]\n",
    "cloth_1 = pv.Plane(\n",
    "        center=(center + np.array([0.6, 0, 0])),\n",
    "        direction=(1, 0, 0),\n",
    "        i_size=2.5,\n",
    "        j_size=2.5,\n",
    "        i_resolution=25,\n",
    "        j_resolution=25,\n",
    "    )\n",
    "cloth_1_triangles = cloth_1.triangulate()\n",
    "\n",
    "cloth_2 = pv.Plane(\n",
    "        center=(center - np.array([0.6, 0, 0])),\n",
    "        direction=(1, 0, 0),\n",
    "        i_size=2.5,\n",
    "        j_size=2.5,\n",
    "        i_resolution=25,\n",
    "        j_resolution=25,\n",
    "    )\n",
    "cloth_2_triangles = cloth_2.triangulate()"
   ]
  },
  {
   "cell_type": "code",
   "execution_count": 9,
   "metadata": {},
   "outputs": [
    {
     "name": "stdout",
     "output_type": "stream",
     "text": [
      "0.6 0.6\n",
      "-0.6 -0.6\n"
     ]
    },
    {
     "name": "stderr",
     "output_type": "stream",
     "text": [
      "\u001b[0m\u001b[2m2022-11-03 20:25:55.981 ( 370.291s) [         914CD9E]    vtkExtractEdges.cxx:435   INFO| \u001b[0mExecuting edge extractor: points are renumbered\u001b[0m\n",
      "\u001b[0m\u001b[2m2022-11-03 20:25:55.983 ( 370.293s) [         914CD9E]    vtkExtractEdges.cxx:551   INFO| \u001b[0mCreated 1925 edges\u001b[0m\n",
      "\u001b[0m\u001b[2m2022-11-03 20:25:55.984 ( 370.294s) [         914CD9E]    vtkExtractEdges.cxx:435   INFO| \u001b[0mExecuting edge extractor: points are renumbered\u001b[0m\n",
      "\u001b[0m\u001b[2m2022-11-03 20:25:55.986 ( 370.296s) [         914CD9E]    vtkExtractEdges.cxx:551   INFO| \u001b[0mCreated 1925 edges\u001b[0m\n"
     ]
    }
   ],
   "source": [
    "edges1 = cloth_1_triangles.extract_all_edges()\n",
    "edges2 = cloth_2_triangles.extract_all_edges()\n",
    "print(min(edges1.points[:, 0]), max(edges1.points[:, 0]))\n",
    "print(min(edges2.points[:, 0]), max(edges2.points[:, 0]))"
   ]
  },
  {
   "cell_type": "code",
   "execution_count": 32,
   "metadata": {},
   "outputs": [
    {
     "name": "stdout",
     "output_type": "stream",
     "text": [
      "[[-1.2499999 -1.2500001]\n",
      " [-1.2499999 -1.1500001]\n",
      " [-1.1499999 -1.2500001]\n",
      " ...\n",
      " [ 1.2499999  1.0500001]\n",
      " [ 1.2499999  1.1500001]\n",
      " [ 1.2499999  1.2500001]]\n",
      "[[-1.2499999 -1.2500001]\n",
      " [-1.2499999 -1.1500001]\n",
      " [-1.1499999 -1.2500001]\n",
      " ...\n",
      " [ 1.2499999  1.0500001]\n",
      " [ 1.2499999  1.1500001]\n",
      " [ 1.2499999  1.2500001]]\n"
     ]
    }
   ],
   "source": [
    "dist_mat = cdist(edges1.points[:, 1:3], edges2.points[:, 1:3])\n",
    "print(edges1.points[:, 1:3])\n",
    "print(edges2.points[:, 1:3])"
   ]
  },
  {
   "cell_type": "code",
   "execution_count": null,
   "metadata": {},
   "outputs": [],
   "source": []
  }
 ],
 "metadata": {
  "kernelspec": {
   "display_name": "Python 3.8.10 ('pbd-GYzgUBp8-py3.8')",
   "language": "python",
   "name": "python3"
  },
  "language_info": {
   "codemirror_mode": {
    "name": "ipython",
    "version": 3
   },
   "file_extension": ".py",
   "mimetype": "text/x-python",
   "name": "python",
   "nbconvert_exporter": "python",
   "pygments_lexer": "ipython3",
   "version": "3.8.10"
  },
  "orig_nbformat": 4,
  "vscode": {
   "interpreter": {
    "hash": "56a7305e33ec82d73ff697ea181806548f63669c9bde66f41b7c8880b1356fa1"
   }
  }
 },
 "nbformat": 4,
 "nbformat_minor": 2
}
